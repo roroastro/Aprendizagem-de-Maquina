{
  "nbformat": 4,
  "nbformat_minor": 0,
  "metadata": {
    "colab": {
      "provenance": [],
      "authorship_tag": "ABX9TyP/j0OcbYbOyM/vvjNVRInZ",
      "include_colab_link": true
    },
    "kernelspec": {
      "name": "python3",
      "display_name": "Python 3"
    },
    "language_info": {
      "name": "python"
    }
  },
  "cells": [
    {
      "cell_type": "markdown",
      "metadata": {
        "id": "view-in-github",
        "colab_type": "text"
      },
      "source": [
        "<a href=\"https://colab.research.google.com/github/roroastro/Aprendizagem-de-Maquina/blob/main/dever03.ipynb\" target=\"_parent\"><img src=\"https://colab.research.google.com/assets/colab-badge.svg\" alt=\"Open In Colab\"/></a>"
      ]
    },
    {
      "cell_type": "code",
      "source": [
        "import pandas as pd"
      ],
      "metadata": {
        "id": "KKcgK3-5BEHr"
      },
      "execution_count": null,
      "outputs": []
    },
    {
      "cell_type": "code",
      "source": [
        "data = \"\"\"Nome,Idade\\nAna,25\\nBruno,30\\nCarla,22\\nDaniel,28\\nEduardo,35\"\"\"\n",
        "with open(\"dados.csv\", \"w\") as file:\n",
        "    file.write(data)\n",
        "\n",
        "print(\"Arquivo 'dados.csv' criado com sucesso!\")"
      ],
      "metadata": {
        "colab": {
          "base_uri": "https://localhost:8080/"
        },
        "id": "VPd27uAaBF0i",
        "outputId": "f44c6cc3-efda-4112-f43b-eac1c13f3113"
      },
      "execution_count": null,
      "outputs": [
        {
          "output_type": "stream",
          "name": "stdout",
          "text": [
            "Arquivo 'dados.csv' criado com sucesso!\n"
          ]
        }
      ]
    },
    {
      "cell_type": "code",
      "source": [
        "df = pd.read_csv(\"dados.csv\")"
      ],
      "metadata": {
        "id": "WLH3ktTJBJ0K"
      },
      "execution_count": null,
      "outputs": []
    },
    {
      "cell_type": "code",
      "source": [
        "idade_maxima = df[\"Idade\"].max()"
      ],
      "metadata": {
        "id": "6CkCw22uBPMU"
      },
      "execution_count": null,
      "outputs": []
    },
    {
      "cell_type": "code",
      "source": [
        "nome_digitado = input(\"Digite um nome: \")"
      ],
      "metadata": {
        "colab": {
          "base_uri": "https://localhost:8080/"
        },
        "id": "1buTpmdpBRNx",
        "outputId": "5d552b01-6a83-4ebc-b9f6-a025171ec453"
      },
      "execution_count": null,
      "outputs": [
        {
          "name": "stdout",
          "output_type": "stream",
          "text": [
            "Digite um nome: joao\n"
          ]
        }
      ]
    },
    {
      "cell_type": "code",
      "source": [
        "if nome_digitado in df[\"Nome\"].values:\n",
        "    idade = df.loc[df[\"Nome\"] == nome_digitado, \"Idade\"].values[0]\n",
        "    if idade == idade_maxima:\n",
        "        print(f\"{nome_digitado} tem {idade} anos, é a pessoa mais velha da lista.\")\n",
        "    else:\n",
        "        print(f\"{nome_digitado} tem {idade} anos, não é a pessoa mais velha da lista.\")\n",
        "else:\n",
        "    print(\"Nome não encontrado.\")"
      ],
      "metadata": {
        "colab": {
          "base_uri": "https://localhost:8080/"
        },
        "id": "rTQuH4riBSjF",
        "outputId": "74460722-1a49-4d44-f3c9-39bd9a034d80"
      },
      "execution_count": null,
      "outputs": [
        {
          "output_type": "stream",
          "name": "stdout",
          "text": [
            "Nome não encontrado.\n"
          ]
        }
      ]
    }
  ]
}