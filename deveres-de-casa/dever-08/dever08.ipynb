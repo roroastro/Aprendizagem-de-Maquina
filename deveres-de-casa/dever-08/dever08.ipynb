{
  "nbformat": 4,
  "nbformat_minor": 0,
  "metadata": {
    "colab": {
      "provenance": []
    },
    "kernelspec": {
      "name": "python3",
      "display_name": "Python 3"
    },
    "language_info": {
      "name": "python"
    }
  },
  "cells": [
    {
      "cell_type": "code",
      "execution_count": null,
      "metadata": {
        "id": "x1om_Ii0W192"
      },
      "outputs": [],
      "source": [
        "from sklearn.datasets import load_iris\n",
        "from sklearn.neighbors import KNeighborsClassifier  # Estimator pedido no dever\n",
        "\n",
        "# Carregar o dataset Iris\n",
        "iris = load_iris()\n",
        "X = iris.data               # Características\n",
        "y = iris.target             # Rótulos (espécies)\n",
        "nomes_especies = iris.target_names  # Nomes das espécies\n",
        "\n",
        "# Criar e treinar o modelo com 3 vizinhos\n",
        "modelo = KNeighborsClassifier(n_neighbors=3)\n",
        "modelo.fit(X, y)\n",
        "\n",
        "# Solicitar medidas ao usuário\n",
        "sepal_length = float(input(\"Digite o comprimento da sépala (cm): \"))\n",
        "sepal_width = float(input(\"Digite a largura da sépala (cm): \"))\n",
        "petal_length = float(input(\"Digite o comprimento da pétala (cm): \"))\n",
        "petal_width = float(input(\"Digite a largura da pétala (cm): \"))\n",
        "\n",
        "sepal_length2 = float(input(\"Digite o comprimento da sépala (segunda flor) (cm): \"))\n",
        "sepal_width2 = float(input(\"Digite a largura da sépala (segunda flor) (cm): \"))\n",
        "petal_length2 = float(input(\"Digite o comprimento da pétala (segunda flor) (cm): \"))\n",
        "petal_width2 = float(input(\"Digite a largura da pétala (segunda flor) (cm): \"))\n",
        "\n",
        "# Fazer predições\n",
        "nova_flor = [\n",
        "    [sepal_length, sepal_width, petal_length, petal_width],\n",
        "    [sepal_length2, sepal_width2, petal_length2, petal_width2]\n",
        "]\n",
        "predicao = modelo.predict(nova_flor)\n",
        "\n",
        "# Mostrar os resultados\n",
        "print(f\"A primeira flor provavelmente é uma {nomes_especies[predicao[0]]}\")\n",
        "print(f\"A segunda flor provavelmente é uma {nomes_especies[predicao[1]]}\")"
      ]
    }
  ]
}