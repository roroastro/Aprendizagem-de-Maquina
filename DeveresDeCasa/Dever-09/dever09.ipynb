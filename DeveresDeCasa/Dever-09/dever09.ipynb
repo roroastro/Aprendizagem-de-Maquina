{
  "cells": [
    {
      "cell_type": "code",
      "execution_count": 2,
      "metadata": {
        "id": "x1om_Ii0W192"
      },
      "outputs": [
        {
          "name": "stdout",
          "output_type": "stream",
          "text": [
            "Quantidade de itens no conjunto de teste: 90\n"
          ]
        }
      ],
      "source": [
        "from sklearn.datasets import load_iris\n",
        "from sklearn.model_selection import train_test_split\n",
        "\n",
        "# Carrega o dataset Iris\n",
        "iris = load_iris()\n",
        "X = iris.data\n",
        "y = iris.target\n",
        "\n",
        "# Separa os dados com train_size de 40%, ou seja, test_size será 60%\n",
        "X_treino, X_teste, y_treino, y_teste = train_test_split(X, y, train_size=0.4, random_state=42)\n",
        "\n",
        "# Imprime a quantidade de itens no conjunto de teste\n",
        "print(\"Quantidade de itens no conjunto de teste:\", len(X_teste))"
      ]
    }
  ],
  "metadata": {
    "colab": {
      "provenance": []
    },
    "kernelspec": {
      "display_name": "base",
      "language": "python",
      "name": "python3"
    },
    "language_info": {
      "codemirror_mode": {
        "name": "ipython",
        "version": 3
      },
      "file_extension": ".py",
      "mimetype": "text/x-python",
      "name": "python",
      "nbconvert_exporter": "python",
      "pygments_lexer": "ipython3",
      "version": "3.12.7"
    }
  },
  "nbformat": 4,
  "nbformat_minor": 0
}
