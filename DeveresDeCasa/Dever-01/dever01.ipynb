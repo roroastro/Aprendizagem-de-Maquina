{
  "nbformat": 4,
  "nbformat_minor": 0,
  "metadata": {
    "colab": {
      "provenance": [],
      "authorship_tag": "ABX9TyN2bvHNnSv6Fef2cwGIYeux",
      "include_colab_link": true
    },
    "kernelspec": {
      "name": "python3",
      "display_name": "Python 3"
    },
    "language_info": {
      "name": "python"
    }
  },
  "cells": [
    {
      "cell_type": "markdown",
      "metadata": {
        "id": "view-in-github",
        "colab_type": "text"
      },
      "source": [
        "<a href=\"https://colab.research.google.com/github/roroastro/Aprendizagem-de-Maquina/blob/main/dever01.ipynb\" target=\"_parent\"><img src=\"https://colab.research.google.com/assets/colab-badge.svg\" alt=\"Open In Colab\"/></a>"
      ]
    },
    {
      "cell_type": "code",
      "execution_count": null,
      "metadata": {
        "id": "4lcINYNFUTFe"
      },
      "outputs": [],
      "source": [
        "# Importar os módulos do sistema operacional\n",
        "import os\n",
        "import locale\n",
        "\n",
        "# Instalar pt_BR\n",
        "!/usr/share/locales/install-language-pack pt_BR\n",
        "!dpkg-reconfigure locales pt_BR\n",
        "\n",
        "# Reiniciar o processo Python\n",
        "os.kill(os.getpid(), 9)"
      ]
    },
    {
      "cell_type": "code",
      "source": [
        "# Definições e funções para todos os exemplos\n",
        "# encoding: iso-8859-1\n",
        "\n",
        "from datetime import datetime\n",
        "import random\n",
        "\n",
        "\n",
        "\n",
        "# Ajustando a localização para o Brasil\n",
        "import os\n",
        "import locale\n",
        "locale.setlocale(locale.LC_ALL, 'pt_BR')\n",
        "from datetime import datetime\n",
        "import pytz\n",
        "\n",
        "import pandas as pd\n",
        "\n",
        "# Define o fuso horário para o Brasil (Brasília)\n",
        "con_fuso_horario = pytz.timezone(\"America/Sao_Paulo\")\n",
        "\n",
        "conSeparador= \"\\nXXXXXXXXXXXXX---XXXXXXXXXXXXX\\n\"\n",
        "\n",
        "# Função formatar tempo de execução (dado tempo de inicio e fim, retorna h:m:milisegundos formatado)\n",
        "def formata_tempo_execucao (dttInicio, dttfim):\n",
        "    strTempo = dttfim - dttInicio\n",
        "    str_tempo_execucao_formatado = \"{:02d}:{:02d}.{:06d}\".format(\n",
        "    strTempo.seconds // 60,  # Minutos\n",
        "    strTempo.seconds % 60,  # Segundos\n",
        "    strTempo.microseconds  # Microsegundos\n",
        "    )\n",
        "    return str_tempo_execucao_formatado\n",
        "\n",
        "def formata_data(dttParametro):\n",
        "  return dttParametro.strftime(\"%d/%m/%Y - %H:%M:%S.%f\")\n",
        "\n",
        "def formata_numero(numero):\n",
        "    return locale.format_string(\"%d\", numero, grouping=True)\n",
        "\n",
        "# Cria um array do tamanho intElementosArray, valores inteiros entre intMin e intMax)\n",
        "def montar_array (intElementosArray,intMin, intMax):\n",
        "  x = 0\n",
        "  array = []\n",
        "  while x < intTamArray:\n",
        "    intElementosArray = random.randint(intMin,intMax)\n",
        "    array.append (intElementosArray)\n",
        "    x += 1\n",
        "  return (array)\n",
        "\n",
        "def ler_inteiro (strMensagem):\n",
        "  while True:\n",
        "    try:      # Se nenhuma exceção ocorrer, a cláusula except é ignorada e a execução da instrução try é finalizada\n",
        "      tamanho = int(input(strMensagem))\n",
        "      break  # Se a entrada for válida, sai do loop e finaliza o programa\n",
        "    except ValueError:\n",
        "      print(\"Erro: Por favor, digite um número inteiro valido.\")\n",
        "  return tamanho\n",
        "\n",
        "\n",
        "def carregar_array():\n",
        "    arrMeuArray = []\n",
        "    while True:\n",
        "        entrada = input(\"Digite um número inteiro para o array (-1 para sair): \")\n",
        "        try:\n",
        "            numero = int(entrada)\n",
        "        except ValueError:\n",
        "            print(\"Por favor, digite um número inteiro válido.\")\n",
        "            continue\n",
        "        if numero == -1:\n",
        "            break\n",
        "        arrMeuArray.append(numero)\n",
        "        print (f\"O array atual tem {str(len(arrMeuArray))}. Seu conteúdo é \\n\")\n",
        "        print (arrMeuArray)\n",
        "    return arrMeuArray\n",
        "\n",
        "def marcar_inicio (strMensagem):\n",
        "  dttInicio = datetime.now(con_fuso_horario)\n",
        "  dttInicioFormatado = formata_data(dttInicio)\n",
        "  print(f\"Iniciando {strMensagem} as : \" + str(dttInicioFormatado))\n",
        "  return dttInicio\n",
        "\n",
        "def marcar_fim (strMensagem):\n",
        "  dttFim = datetime.now(con_fuso_horario)\n",
        "  dttFimFormatado = formata_data (dttFim)\n",
        "  print(f\"Finalizando {strMensagem} as : \" + str(dttFimFormatado))\n",
        "  return dttFim\n",
        "\n",
        "def ler_arquivo_csv_para_lista(nome_arquivo):\n",
        "    try:\n",
        "        dados = pd.read_csv(nome_arquivo)\n",
        "        return dados.values.tolist()  # Converte o DataFrame para uma lista de listas\n",
        "    except FileNotFoundError:\n",
        "        print(f\"Erro: Arquivo '{nome_arquivo}' não encontrado.\")\n",
        "        return None"
      ],
      "metadata": {
        "id": "5Yc2SudVUa7y"
      },
      "execution_count": null,
      "outputs": []
    },
    {
      "cell_type": "code",
      "source": [
        "import pandas as pd\n",
        "from datetime import datetime\n",
        "\n",
        "# Dados de exemplo\n",
        "dados = {\n",
        "    'Nome': ['Ana Silva', 'Carlos Souza', 'Mariana Costa', 'Felipe Lima', 'João Pereira'],\n",
        "    'Data de Nascimento': ['1990-05-12', '1985-02-23', '2000-07-19', '1995-10-30', '1988-03-15'],\n",
        "    'Dia de Cadastro': ['2025-02-24', '2025-02-23', '2025-02-20', '2025-02-19', '2025-02-18'],\n",
        "    'Hora de Cadastro': ['10:30', '14:45', '09:00', '19:15', '11:10']\n",
        "}\n",
        "\n",
        "# Criando um DataFrame\n",
        "df = pd.DataFrame(dados)\n",
        "\n",
        "# Salvando o DataFrame em um arquivo CSV\n",
        "df.to_csv('/content/usuarios.csv', index=False)\n",
        "\n",
        "# Visualizando o DataFrame\n",
        "df.head()\n"
      ],
      "metadata": {
        "id": "BAljEXnoU1GR"
      },
      "execution_count": null,
      "outputs": []
    },
    {
      "cell_type": "code",
      "source": [
        "# Leitura do arquivo CSV\n",
        "df = pd.read_csv('/content/usuarios.csv')\n",
        "\n",
        "# Exibir os dados do CSV\n",
        "print(\"Conteúdo do arquivo CSV:\")\n",
        "print(df)\n",
        "\n",
        "# Solicitar o número do registro\n",
        "n = int(input(\"Digite o número do registro que deseja visualizar (1 a 5): \"))\n",
        "\n",
        "# Verificar se a entrada está dentro do intervalo\n",
        "if 1 <= n <= 5:\n",
        "    # Acessar o registro solicitado\n",
        "    registro = df.iloc[n-1]\n",
        "\n",
        "    # Formatando a data para o padrão brasileiro\n",
        "    data_nascimento = datetime.strptime(registro['Data de Nascimento'], '%Y-%m-%d').strftime('%d/%m/%Y')\n",
        "    dia_cadastro = datetime.strptime(registro['Dia de Cadastro'], '%Y-%m-%d').strftime('%d/%m/%Y')\n",
        "\n",
        "    # Concatenando as informações\n",
        "    saida = f\"Nome: {registro['Nome']} | Data de Nascimento: {data_nascimento} | Dia de Cadastro: {dia_cadastro} | Hora de Cadastro: {registro['Hora de Cadastro']}\"\n",
        "\n",
        "    # Exibindo a saída\n",
        "    print(saida)\n",
        "else:\n",
        "    print(\"Número de registro inválido. Digite um valor entre 1 e 5.\")\n"
      ],
      "metadata": {
        "id": "v0S1uLNSU6EJ"
      },
      "execution_count": null,
      "outputs": []
    }
  ]
}