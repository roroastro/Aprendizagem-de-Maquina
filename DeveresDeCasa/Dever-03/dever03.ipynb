{
  "cells": [
    {
      "cell_type": "code",
      "execution_count": null,
      "metadata": {
        "id": "KKcgK3-5BEHr"
      },
      "outputs": [],
      "source": [
        "import pandas as pd"
      ]
    },
    {
      "cell_type": "code",
      "execution_count": null,
      "metadata": {
        "colab": {
          "base_uri": "https://localhost:8080/"
        },
        "id": "VPd27uAaBF0i",
        "outputId": "f44c6cc3-efda-4112-f43b-eac1c13f3113"
      },
      "outputs": [
        {
          "name": "stdout",
          "output_type": "stream",
          "text": [
            "Arquivo 'dados.csv' criado com sucesso!\n"
          ]
        }
      ],
      "source": [
        "data = \"\"\"Nome,Idade\\nAna,25\\nBruno,30\\nCarla,22\\nDaniel,28\\nEduardo,35\"\"\"\n",
        "with open(\"dados.csv\", \"w\") as file:\n",
        "    file.write(data)\n",
        "\n",
        "print(\"Arquivo 'dados.csv' criado com sucesso!\")"
      ]
    },
    {
      "cell_type": "code",
      "execution_count": null,
      "metadata": {
        "id": "WLH3ktTJBJ0K"
      },
      "outputs": [],
      "source": [
        "df = pd.read_csv(\"dados.csv\")"
      ]
    },
    {
      "cell_type": "code",
      "execution_count": null,
      "metadata": {
        "id": "6CkCw22uBPMU"
      },
      "outputs": [],
      "source": [
        "idade_maxima = df[\"Idade\"].max()"
      ]
    },
    {
      "cell_type": "code",
      "execution_count": null,
      "metadata": {
        "colab": {
          "base_uri": "https://localhost:8080/"
        },
        "id": "1buTpmdpBRNx",
        "outputId": "5d552b01-6a83-4ebc-b9f6-a025171ec453"
      },
      "outputs": [
        {
          "name": "stdout",
          "output_type": "stream",
          "text": [
            "Digite um nome: joao\n"
          ]
        }
      ],
      "source": [
        "nome_digitado = input(\"Digite um nome: \")"
      ]
    },
    {
      "cell_type": "code",
      "execution_count": null,
      "metadata": {
        "colab": {
          "base_uri": "https://localhost:8080/"
        },
        "id": "rTQuH4riBSjF",
        "outputId": "74460722-1a49-4d44-f3c9-39bd9a034d80"
      },
      "outputs": [
        {
          "name": "stdout",
          "output_type": "stream",
          "text": [
            "Nome não encontrado.\n"
          ]
        }
      ],
      "source": [
        "if nome_digitado in df[\"Nome\"].values:\n",
        "    idade = df.loc[df[\"Nome\"] == nome_digitado, \"Idade\"].values[0]\n",
        "    if idade == idade_maxima:\n",
        "        print(f\"{nome_digitado} tem {idade} anos, é a pessoa mais velha da lista.\")\n",
        "    else:\n",
        "        print(f\"{nome_digitado} tem {idade} anos, não é a pessoa mais velha da lista.\")\n",
        "else:\n",
        "    print(\"Nome não encontrado.\")"
      ]
    }
  ],
  "metadata": {
    "colab": {
      "name": "dever03.ipynb",
      "provenance": []
    },
    "kernelspec": {
      "display_name": "Python 3",
      "name": "python3"
    },
    "language_info": {
      "name": "python",
      "version": "3.13.1"
    }
  },
  "nbformat": 4,
  "nbformat_minor": 0
}
